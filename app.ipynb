{
 "cells": [
  {
   "cell_type": "code",
   "execution_count": null,
   "metadata": {
    "colab": {
     "base_uri": "https://localhost:8080/"
    },
    "id": "8mxo3shr-o6V",
    "outputId": "e2c56966-64f4-4436-abdc-f4c7139dc894"
   },
   "outputs": [
    {
     "name": "stdout",
     "output_type": "stream",
     "text": [
      "Mounted at /content/drive\n"
     ]
    }
   ],
   "source": [
    "from google.colab import drive\n",
    "drive.mount('/content/drive')"
   ]
  },
  {
   "cell_type": "code",
   "execution_count": null,
   "metadata": {
    "colab": {
     "base_uri": "https://localhost:8080/"
    },
    "id": "z_woDc3n-vwM",
    "outputId": "061462f9-22f6-48bf-ef13-41bb13f18466"
   },
   "outputs": [
    {
     "name": "stdout",
     "output_type": "stream",
     "text": [
      "/content/drive/My Drive/Colab Notebooks/TP Vision/tp3+dataset\n"
     ]
    }
   ],
   "source": [
    "%cd \"/content/drive/My Drive/Colab Notebooks/TP Vision/tp3+dataset\""
   ]
  },
  {
   "cell_type": "code",
   "execution_count": null,
   "metadata": {
    "id": "1nYk6Nq9_v2e"
   },
   "outputs": [],
   "source": [
    "from google.colab.patches import cv2_imshow\n",
    "import cv2\n",
    "import numpy as np\n",
    "from sklearn.neighbors import KNeighborsClassifier\n",
    "from sklearn.svm import SVC\n",
    "from skimage import exposure\n",
    "from skimage import feature\n",
    "from imutils import paths\n",
    "import imutils\n",
    "from sklearn.decomposition import PCA\n",
    "import matplotlib.pyplot as plt\n",
    "import os\n",
    "from sklearn.decomposition import PCA\n",
    "from sklearn.preprocessing import StandardScaler\n",
    "from sklearn.metrics import classification_report, accuracy_score\n"
   ]
  },
  {
   "cell_type": "code",
   "execution_count": null,
   "metadata": {
    "id": "oQvZ0jZUH2PD"
   },
   "outputs": [],
   "source": [
    "\t# Function to compute histogram from LBP features\n",
    "\tdef compute_lbp(image, eps=1e-7,numPoints=24,radius=8):\n",
    "\t\t# compute the Local Binary Pattern representation\n",
    "\t\t# of the image, and then use the LBP representation\n",
    "\t\t# to build the histogram of patterns\n",
    "\t\tlbp = feature.local_binary_pattern(image, numPoints,\n",
    "\t\t\tradius, method=\"uniform\")\n",
    "\t\t(hist, _) = np.histogram(lbp.ravel(),\n",
    "\t\t\tbins=np.arange(0, numPoints + 3),\n",
    "\t\t\trange=(0, numPoints + 2))\n",
    "\t\t# normalize the histogram\n",
    "\t\thist = hist.astype(\"float\")\n",
    "\t\thist /= (hist.sum() + eps)\n",
    "\t\t# return the histogram of Local Binary Patterns\n",
    "\t\treturn hist"
   ]
  },
  {
   "cell_type": "markdown",
   "metadata": {
    "id": "xK2Q8MV-BZ2C"
   },
   "source": [
    "# Feature extraction   from the training data with the corresponding labels"
   ]
  },
  {
   "cell_type": "code",
   "execution_count": 41,
   "metadata": {
    "colab": {
     "base_uri": "https://localhost:8080/"
    },
    "id": "wjpDtwtm_-cD",
    "outputId": "58693b0b-a382-44c7-fce6-ab168802792d"
   },
   "outputs": [
    {
     "name": "stdout",
     "output_type": "stream",
     "text": [
      "[INFO] extracting different features:  Raw Pixel values from image/Color Histogram/HOG/LBP\n",
      "caltech_dataset/train_set/motorbike/14.png\n",
      "caltech_dataset/train_set/motorbike/15.png\n",
      "caltech_dataset/train_set/motorbike/18.png\n",
      "caltech_dataset/train_set/motorbike/16.png\n",
      "caltech_dataset/train_set/motorbike/19.png\n",
      "caltech_dataset/train_set/motorbike/17.png\n",
      "caltech_dataset/train_set/motorbike/20.png\n",
      "caltech_dataset/train_set/motorbike/01.png\n",
      "caltech_dataset/train_set/motorbike/02.png\n",
      "caltech_dataset/train_set/motorbike/03.png\n",
      "caltech_dataset/train_set/motorbike/04.png\n",
      "caltech_dataset/train_set/motorbike/05.png\n",
      "caltech_dataset/train_set/motorbike/06.png\n",
      "caltech_dataset/train_set/motorbike/07.png\n",
      "caltech_dataset/train_set/motorbike/08.png\n",
      "caltech_dataset/train_set/motorbike/09.png\n",
      "caltech_dataset/train_set/motorbike/10.png\n",
      "caltech_dataset/train_set/motorbike/11.png\n",
      "caltech_dataset/train_set/motorbike/12.png\n",
      "caltech_dataset/train_set/motorbike/13.png\n",
      "caltech_dataset/train_set/person/01.png\n",
      "caltech_dataset/train_set/person/02.png\n",
      "caltech_dataset/train_set/person/03.png\n",
      "caltech_dataset/train_set/person/04.png\n",
      "caltech_dataset/train_set/person/05.png\n",
      "caltech_dataset/train_set/person/06.png\n",
      "caltech_dataset/train_set/person/08.png\n",
      "caltech_dataset/train_set/person/07.png\n",
      "caltech_dataset/train_set/person/11.png\n",
      "caltech_dataset/train_set/person/09.png\n",
      "caltech_dataset/train_set/person/10.png\n",
      "caltech_dataset/train_set/person/13.png\n",
      "caltech_dataset/train_set/person/12.png\n",
      "caltech_dataset/train_set/person/14.png\n",
      "caltech_dataset/train_set/person/16.png\n",
      "caltech_dataset/train_set/person/15.png\n",
      "caltech_dataset/train_set/person/18.png\n",
      "caltech_dataset/train_set/person/17.png\n",
      "caltech_dataset/train_set/person/19.png\n",
      "caltech_dataset/train_set/person/20.png\n",
      "caltech_dataset/train_set/car/01.png\n",
      "caltech_dataset/train_set/car/02.png\n",
      "caltech_dataset/train_set/car/03.png\n",
      "caltech_dataset/train_set/car/04.png\n",
      "caltech_dataset/train_set/car/05.png\n",
      "caltech_dataset/train_set/car/06 (1).png\n",
      "caltech_dataset/train_set/car/06.png\n",
      "caltech_dataset/train_set/car/07 (1).png\n",
      "caltech_dataset/train_set/car/08.png\n",
      "caltech_dataset/train_set/car/07.png\n",
      "caltech_dataset/train_set/car/09.png\n",
      "caltech_dataset/train_set/car/10.png\n",
      "caltech_dataset/train_set/car/11.png\n",
      "caltech_dataset/train_set/car/13.png\n",
      "caltech_dataset/train_set/car/14.png\n",
      "caltech_dataset/train_set/car/15.png\n",
      "caltech_dataset/train_set/car/16.png\n",
      "caltech_dataset/train_set/car/17.png\n",
      "caltech_dataset/train_set/car/18.png\n",
      "caltech_dataset/train_set/car/20.png\n",
      "caltech_dataset/train_set/car/19.png\n",
      "caltech_dataset/train_set/car/12.png\n"
     ]
    }
   ],
   "source": [
    "print(\"[INFO] extracting different features:  Raw Pixel values from image/Color Histogram/HOG/LBP\")\n",
    "fixed_width = 500\n",
    "fixed_height = 364\n",
    "train_data_hog=[]\n",
    "#TODO : Add a vector to stock labels\n",
    "labels = []\n",
    "for imagePath in paths.list_images('caltech_dataset/train_set'):\n",
    "  print (imagePath)\n",
    "  #TODO: Retrieve the name of the class from each image path\n",
    "  label = imagePath.split(os.path.sep)[-2]\n",
    "  # Example of resizing images to a fixed size before HOG feature extraction\n",
    "  image = cv2.imread(imagePath)\n",
    "  image = cv2.resize(image, (fixed_width, fixed_height))  # Choose appropriate dimensions\n",
    "  #TODO: Display the image\n",
    "  #plt.imshow(cv2.cvtColor(image, cv2.COLOR_BGR2RGB))\n",
    "  #plt.title(\"Original Image\")\n",
    "  #plt.show()\n",
    "\n",
    "  gray_image = cv2.cvtColor(image, cv2.COLOR_BGR2GRAY)\n",
    "  (H, hogImage) = feature.hog(gray_image, orientations=9, pixels_per_cell=(8, 8),cells_per_block=(2, 2),transform_sqrt=True, block_norm=\"L1\",visualize=True)\n",
    "  hogImage = exposure.rescale_intensity(hogImage, out_range=(0, 255))\n",
    "  hogImage = hogImage.astype(\"uint8\")\n",
    "  #TODO: Display HOG image\n",
    "  #plt.imshow(hogImage, cmap='gray')\n",
    "  #plt.title(\"HOG Image\")\n",
    "  #plt.show()\n",
    "\n",
    "  train_data_hog.append(H)\n",
    "\n",
    "  #TODO: update labels vector\n",
    "  labels.append(label)"
   ]
  },
  {
   "cell_type": "code",
   "execution_count": null,
   "metadata": {
    "colab": {
     "base_uri": "https://localhost:8080/"
    },
    "id": "jmxvKot_ALEd",
    "outputId": "cc68e52c-00fe-4b60-c515-cee7404c1080"
   },
   "outputs": [
    {
     "name": "stdout",
     "output_type": "stream",
     "text": [
      "Feature vector size for caltech_dataset/train_set/car/12.png: 96624\n"
     ]
    }
   ],
   "source": [
    "#TODO: Print the size of each feature vector\n",
    "print(f\"Feature vector size for {imagePath}: {H.size}\")"
   ]
  },
  {
   "cell_type": "markdown",
   "metadata": {
    "id": "eZLC6yrUEVlO"
   },
   "source": [
    "# SVM and KNN models"
   ]
  },
  {
   "cell_type": "code",
   "execution_count": null,
   "metadata": {
    "id": "s3vOu4PuHQMI"
   },
   "outputs": [],
   "source": [
    "model1 = KNeighborsClassifier(n_neighbors=1)\n",
    "model2 = SVC(kernel='linear')"
   ]
  },
  {
   "cell_type": "markdown",
   "metadata": {
    "id": "ntbUeSHmHuUa"
   },
   "source": [
    "# Feature extraction from the testing data with the corresponding labels"
   ]
  },
  {
   "cell_type": "code",
   "execution_count": null,
   "metadata": {
    "id": "DO6ZdA5bKkM8"
   },
   "outputs": [],
   "source": [
    "test_data_hog = []\n",
    "test_labels = []  # Initialize a list to store the test labels\n",
    "\n",
    "# Assuming you have the testing set path 'caltech_dataset/test_set'\n",
    "for imagePath in paths.list_images('caltech_dataset/test_set'):\n",
    "    # Load the image and convert it to grayscale\n",
    "    image = cv2.imread(imagePath)\n",
    "    image = cv2.resize(image, (fixed_width, fixed_height))  # Choose appropriate dimensions\n",
    "    gray_image = cv2.cvtColor(image, cv2.COLOR_BGR2GRAY)\n",
    "\n",
    "    # Compute HOG features (just as an example, add other features similarly)\n",
    "    H = feature.hog(gray_image, orientations=9, pixels_per_cell=(8, 8),\n",
    "                    cells_per_block=(2, 2), transform_sqrt=True, block_norm=\"L1\")\n",
    "\n",
    "    # Append the features to the test data list\n",
    "    test_data_hog.append(H)\n",
    "\n",
    "    # Retrieve the class label from the image path and append it to the test labels list\n",
    "    label = imagePath.split(os.path.sep)[-2]\n",
    "    test_labels.append(label)\n",
    "\n",
    "    # Other feature computations can go here\n",
    "\n",
    "# After the loop ends, you might need to convert test_data_hog and test_labels to numpy arrays if needed\n",
    "# Convert lists to numpy arrays and ensure they are 2D (n_samples, n_features)\n",
    "train_data_hog = np.array(train_data_hog)\n",
    "test_data_hog = np.array(test_data_hog)\n",
    "\n",
    "# Check if we need to reshape\n",
    "if train_data_hog.ndim == 1:\n",
    "    train_data_hog = train_data_hog.reshape(-1, 1)\n",
    "if test_data_hog.ndim == 1:\n",
    "    test_data_hog = test_data_hog.reshape(-1, 1)\n"
   ]
  },
  {
   "cell_type": "markdown",
   "metadata": {
    "id": "Sxn55G2VIXMa"
   },
   "source": [
    "# Train SVM and KNN models and predict the results, evaluate them as well!"
   ]
  },
  {
   "cell_type": "code",
   "execution_count": null,
   "metadata": {
    "colab": {
     "base_uri": "https://localhost:8080/"
    },
    "id": "iKn0UE7TI-tg",
    "outputId": "1bbfe658-217f-41db-85d2-942e3fb09a5f"
   },
   "outputs": [
    {
     "name": "stdout",
     "output_type": "stream",
     "text": [
      "Accuracy: 86.67%\n",
      "Classification Report:\n",
      "              precision    recall  f1-score   support\n",
      "\n",
      "         car       0.83      1.00      0.91         5\n",
      "   motorbike       1.00      0.80      0.89         5\n",
      "      person       0.80      0.80      0.80         5\n",
      "\n",
      "    accuracy                           0.87        15\n",
      "   macro avg       0.88      0.87      0.87        15\n",
      "weighted avg       0.88      0.87      0.87        15\n",
      "\n"
     ]
    }
   ],
   "source": [
    "from sklearn.metrics import classification_report, accuracy_score\n",
    "\n",
    "# Assuming `train_data` and `train_labels` have been defined and preprocessed\n",
    "model1.fit(train_data_hog, labels)\n",
    "predicted_classes1 = model1.predict(test_data_hog)\n",
    "\n",
    "# Evaluate the results by comparing the predicted classes to the ground truth (test_labels)\n",
    "accuracy = accuracy_score(test_labels, predicted_classes1)\n",
    "print(f\"Accuracy: {accuracy * 100:.2f}%\")\n",
    "\n",
    "# Additionally, you can get a full classification report that includes precision, recall, and F1-score for each class\n",
    "class_report = classification_report(test_labels, predicted_classes1)\n",
    "print(\"Classification Report:\")\n",
    "print(class_report)\n"
   ]
  },
  {
   "cell_type": "code",
   "execution_count": null,
   "metadata": {
    "colab": {
     "base_uri": "https://localhost:8080/"
    },
    "id": "Fz-cw3qPYc1U",
    "outputId": "46f99c40-dcd7-45db-b034-e1daafc84186"
   },
   "outputs": [
    {
     "name": "stdout",
     "output_type": "stream",
     "text": [
      "Accuracy: 93.33%\n",
      "Classification Report:\n",
      "              precision    recall  f1-score   support\n",
      "\n",
      "         car       0.83      1.00      0.91         5\n",
      "   motorbike       1.00      1.00      1.00         5\n",
      "      person       1.00      0.80      0.89         5\n",
      "\n",
      "    accuracy                           0.93        15\n",
      "   macro avg       0.94      0.93      0.93        15\n",
      "weighted avg       0.94      0.93      0.93        15\n",
      "\n"
     ]
    }
   ],
   "source": [
    "# Train and predict based on model 2, evalute your results as well!\n",
    "from sklearn.metrics import classification_report, accuracy_score\n",
    "\n",
    "# Assuming `train_data` and `train_labels` have been defined and preprocessed\n",
    "model2.fit(train_data_hog, labels)\n",
    "predicted_classes1 = model2.predict(test_data_hog)\n",
    "\n",
    "# Evaluate the results by comparing the predicted classes to the ground truth (test_labels)\n",
    "accuracy = accuracy_score(test_labels, predicted_classes1)\n",
    "print(f\"Accuracy: {accuracy * 100:.2f}%\")\n",
    "\n",
    "# Additionally, you can get a full classification report that includes precision, recall, and F1-score for each class\n",
    "class_report = classification_report(test_labels, predicted_classes1)\n",
    "print(\"Classification Report:\")\n",
    "print(class_report)\n"
   ]
  },
  {
   "cell_type": "markdown",
   "metadata": {
    "id": "84dUE2UlJ2rg"
   },
   "source": [
    "# Feature Selection by PCA"
   ]
  },
  {
   "cell_type": "code",
   "execution_count": null,
   "metadata": {
    "colab": {
     "base_uri": "https://localhost:8080/"
    },
    "id": "_huXdmZ1QAo_",
    "outputId": "0f807a61-d4d3-4d3b-aeb1-dcd16ccc7e2a"
   },
   "outputs": [
    {
     "name": "stdout",
     "output_type": "stream",
     "text": [
      "Model 1 Accuracy with PCA: 80.00%\n",
      "Model 2 Accuracy with PCA: 80.00%\n",
      "Model 1 Classification Report with PCA:\n",
      "              precision    recall  f1-score   support\n",
      "\n",
      "         car       0.71      1.00      0.83         5\n",
      "   motorbike       1.00      0.40      0.57         5\n",
      "      person       0.83      1.00      0.91         5\n",
      "\n",
      "    accuracy                           0.80        15\n",
      "   macro avg       0.85      0.80      0.77        15\n",
      "weighted avg       0.85      0.80      0.77        15\n",
      "\n",
      "Model 2 Classification Report with PCA:\n",
      "              precision    recall  f1-score   support\n",
      "\n",
      "         car       0.83      1.00      0.91         5\n",
      "   motorbike       1.00      0.60      0.75         5\n",
      "      person       0.67      0.80      0.73         5\n",
      "\n",
      "    accuracy                           0.80        15\n",
      "   macro avg       0.83      0.80      0.80        15\n",
      "weighted avg       0.83      0.80      0.80        15\n",
      "\n"
     ]
    }
   ],
   "source": [
    "#TODO: Apply PCA  on LBP features, retrain the two models after selection  and predict the results, dont forget to evaluate and to compare regarding the original LBP features\n",
    "scaler = StandardScaler()\n",
    "train_data_hog_standardized  = scaler.fit_transform(train_data_hog)\n",
    "test_data_hog_standardized = scaler.transform(test_data_hog)\n",
    "\n",
    "# Step 3: Apply PCA\n",
    "pca = PCA(n_components=0.28, whiten=True)\n",
    "train_data_hog_pca = pca.fit_transform(train_data_hog_standardized)\n",
    "test_data_hog_pca = pca.transform(test_data_hog_standardized)\n",
    "\n",
    "# Retrain models with the PCA-transformed features\n",
    "model1.fit(train_data_hog_pca, labels)\n",
    "model2.fit(train_data_hog_pca, labels)\n",
    "\n",
    "# Step 5: Predict and evaluate the results\n",
    "predicted_classes1 = model1.predict(test_data_hog_pca)\n",
    "predicted_classes2 = model2.predict(test_data_hog_pca)\n",
    "\n",
    "accuracy1 = accuracy_score(test_labels, predicted_classes1)\n",
    "accuracy2 = accuracy_score(test_labels, predicted_classes2)\n",
    "\n",
    "print(f\"Model 1 Accuracy with PCA: {accuracy1 * 100:.2f}%\")\n",
    "print(f\"Model 2 Accuracy with PCA: {accuracy2 * 100:.2f}%\")\n",
    "\n",
    "class_report1 = classification_report(test_labels, predicted_classes1)\n",
    "class_report2 = classification_report(test_labels, predicted_classes2)\n",
    "\n",
    "print(\"Model 1 Classification Report with PCA:\")\n",
    "print(class_report1)\n",
    "\n",
    "print(\"Model 2 Classification Report with PCA:\")\n",
    "print(class_report2)\n"
   ]
  },
  {
   "cell_type": "code",
   "execution_count": null,
   "metadata": {
    "id": "jIa1wPKFAl9k"
   },
   "outputs": [],
   "source": []
  }
 ],
 "metadata": {
  "colab": {
   "provenance": []
  },
  "kernelspec": {
   "display_name": "Python 3 (ipykernel)",
   "language": "python",
   "name": "python3"
  },
  "language_info": {
   "codemirror_mode": {
    "name": "ipython",
    "version": 3
   },
   "file_extension": ".py",
   "mimetype": "text/x-python",
   "name": "python",
   "nbconvert_exporter": "python",
   "pygments_lexer": "ipython3",
   "version": "3.10.13"
  }
 },
 "nbformat": 4,
 "nbformat_minor": 4
}
